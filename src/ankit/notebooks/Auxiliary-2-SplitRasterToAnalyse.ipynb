{
 "cells": [
  {
   "cell_type": "markdown",
   "metadata": {},
   "source": [
    "   Author: Ankit Kariryaa, University of Bremen"
   ]
  },
  {
   "cell_type": "code",
   "execution_count": null,
   "metadata": {},
   "outputs": [],
   "source": [
    "import rasterio                  # I/O raster data (netcdf, height, geotiff, ...)\n",
    "import rasterio.warp             # Reproject raster samples\n",
    "from rasterio import windows\n",
    "import fiona                     # I/O vector data (shape, geojson, ...)\n",
    "import pyproj                    # Change coordinate reference system\n",
    "import geopandas\n",
    "import shapely\n",
    "from shapely.geometry import Point\n",
    "import imgaug as ia\n",
    "from imgaug import augmenters as iaa\n",
    "\n",
    "import numpy as np               # numerical array manipulation\n",
    "import os\n",
    "from tqdm import tqdm\n",
    "from PIL import Image\n",
    "from itertools import product\n",
    "from tensorflow.keras.models import load_model\n",
    "\n",
    "from skimage.segmentation import mark_boundaries\n",
    "from sklearn.model_selection import train_test_split\n",
    "\n",
    "\n",
    "%matplotlib inline\n",
    "import matplotlib.pyplot as plt  # plotting tools\n",
    "\n",
    "\n",
    "import warnings                  # ignore annoying warnings\n",
    "warnings.filterwarnings(\"ignore\")\n",
    "import logging\n",
    "logger = logging.getLogger()\n",
    "logger.setLevel(logging.CRITICAL)\n",
    "\n",
    "%reload_ext autoreload\n",
    "%autoreload 2\n",
    "from IPython.core.interactiveshell import InteractiveShell\n",
    "InteractiveShell.ast_node_interactivity = \"all\""
   ]
  },
  {
   "cell_type": "code",
   "execution_count": null,
   "metadata": {},
   "outputs": [],
   "source": [
    "def get_tiles(ds, width=256, height=256):\n",
    "    nols, nrows = ds.meta['width'], ds.meta['height']\n",
    "    offsets = product(range(0, nols, width), range(0, nrows, height))\n",
    "    big_window = windows.Window(col_off=0, row_off=0, width=nols, height=nrows)\n",
    "    for col_off, row_off in  offsets:\n",
    "        window =windows.Window(col_off=col_off, row_off=row_off, width=width, height=height).intersection(big_window)\n",
    "        transform = windows.transform(window, ds.transform)\n",
    "        yield window, transform\n"
   ]
  },
  {
   "cell_type": "code",
   "execution_count": null,
   "metadata": {},
   "outputs": [],
   "source": [
    "def split_image(base_dir, fn, out_path, out_fn, tile_width=5000, tile_height=5000):\n",
    "    with rasterio.open(os.path.join(base_dir, fn)) as inds:\n",
    "        meta = inds.meta.copy()\n",
    "        for window, transform in get_tiles(inds, tile_width, tile_height ):\n",
    "            print(window)\n",
    "            meta['transform'] = transform\n",
    "            meta['width'], meta['height'] = window.width, window.height\n",
    "            outpath = os.path.join(out_path,out_fn.format(int(window.col_off), int(window.row_off)))\n",
    "            with rasterio.open(outpath, 'w', **meta) as outds:\n",
    "                outds.write(inds.read(window=window))"
   ]
  },
  {
   "cell_type": "code",
   "execution_count": null,
   "metadata": {},
   "outputs": [],
   "source": [
    "base_dir = './'\n",
    "ndvi_fn = ''\n",
    "pan_fn = ''\n",
    "\n",
    "out_path = './cutouts'\n",
    "ndvi_output_fn = 'ndvi_{}-{}.tif'\n",
    "pan_output_fn = 'pan_{}-{}.tif'\n",
    "# os.mkdir(out_path)"
   ]
  },
  {
   "cell_type": "code",
   "execution_count": null,
   "metadata": {},
   "outputs": [],
   "source": [
    "split_image(base_dir, ndvi_fn, out_path, ndvi_output_fn)\n",
    "split_image(base_dir, pan_fn, out_path, pan_output_fn)"
   ]
  }
 ],
 "metadata": {
  "kernelspec": {
   "display_name": "Python 3",
   "language": "python",
   "name": "python3"
  },
  "language_info": {
   "codemirror_mode": {
    "name": "ipython",
    "version": 3
   },
   "file_extension": ".py",
   "mimetype": "text/x-python",
   "name": "python",
   "nbconvert_exporter": "python",
   "pygments_lexer": "ipython3",
   "version": "3.7.8"
  }
 },
 "nbformat": 4,
 "nbformat_minor": 2
}
